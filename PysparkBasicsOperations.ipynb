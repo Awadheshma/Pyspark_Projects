{
 "cells": [
  {
   "cell_type": "code",
   "execution_count": 1,
   "id": "ef7165fc",
   "metadata": {},
   "outputs": [
    {
     "name": "stdout",
     "output_type": "stream",
     "text": [
      "Requirement already satisfied: pyspark in c:\\users\\green zone\\anaconda3\\lib\\site-packages (3.3.1)\n",
      "Requirement already satisfied: py4j==0.10.9.5 in c:\\users\\green zone\\anaconda3\\lib\\site-packages (from pyspark) (0.10.9.5)\n"
     ]
    }
   ],
   "source": [
    "!pip install pyspark"
   ]
  },
  {
   "cell_type": "code",
   "execution_count": 2,
   "id": "5b587922",
   "metadata": {},
   "outputs": [],
   "source": [
    "import pyspark"
   ]
  },
  {
   "cell_type": "code",
   "execution_count": 3,
   "id": "edc0d8ff",
   "metadata": {},
   "outputs": [],
   "source": [
    "import pandas as pd"
   ]
  },
  {
   "cell_type": "code",
   "execution_count": 103,
   "id": "3d575738",
   "metadata": {},
   "outputs": [
    {
     "data": {
      "text/html": [
       "<div>\n",
       "<style scoped>\n",
       "    .dataframe tbody tr th:only-of-type {\n",
       "        vertical-align: middle;\n",
       "    }\n",
       "\n",
       "    .dataframe tbody tr th {\n",
       "        vertical-align: top;\n",
       "    }\n",
       "\n",
       "    .dataframe thead th {\n",
       "        text-align: right;\n",
       "    }\n",
       "</style>\n",
       "<table border=\"1\" class=\"dataframe\">\n",
       "  <thead>\n",
       "    <tr style=\"text-align: right;\">\n",
       "      <th></th>\n",
       "      <th>ID</th>\n",
       "      <th>Name</th>\n",
       "      <th>Age</th>\n",
       "      <th>Gen</th>\n",
       "      <th>Salary</th>\n",
       "      <th>City</th>\n",
       "    </tr>\n",
       "  </thead>\n",
       "  <tbody>\n",
       "    <tr>\n",
       "      <th>0</th>\n",
       "      <td>1</td>\n",
       "      <td>Aman</td>\n",
       "      <td>23</td>\n",
       "      <td>m</td>\n",
       "      <td>34000</td>\n",
       "      <td>Noida</td>\n",
       "    </tr>\n",
       "    <tr>\n",
       "      <th>1</th>\n",
       "      <td>2</td>\n",
       "      <td>Baman</td>\n",
       "      <td>34</td>\n",
       "      <td>m</td>\n",
       "      <td>65000</td>\n",
       "      <td>Noida</td>\n",
       "    </tr>\n",
       "    <tr>\n",
       "      <th>2</th>\n",
       "      <td>3</td>\n",
       "      <td>Shivani</td>\n",
       "      <td>18</td>\n",
       "      <td>f</td>\n",
       "      <td>80000</td>\n",
       "      <td>Delhi</td>\n",
       "    </tr>\n",
       "    <tr>\n",
       "      <th>3</th>\n",
       "      <td>4</td>\n",
       "      <td>Srinivas</td>\n",
       "      <td>45</td>\n",
       "      <td>m</td>\n",
       "      <td>25000</td>\n",
       "      <td>Solan</td>\n",
       "    </tr>\n",
       "    <tr>\n",
       "      <th>4</th>\n",
       "      <td>5</td>\n",
       "      <td>Akash</td>\n",
       "      <td>35</td>\n",
       "      <td>m</td>\n",
       "      <td>80000</td>\n",
       "      <td>Bengaluru</td>\n",
       "    </tr>\n",
       "    <tr>\n",
       "      <th>5</th>\n",
       "      <td>1</td>\n",
       "      <td>Aman</td>\n",
       "      <td>23</td>\n",
       "      <td>m</td>\n",
       "      <td>34000</td>\n",
       "      <td>Noida</td>\n",
       "    </tr>\n",
       "  </tbody>\n",
       "</table>\n",
       "</div>"
      ],
      "text/plain": [
       "   ID      Name  Age Gen  Salary       City\n",
       "0   1      Aman   23   m   34000      Noida\n",
       "1   2     Baman   34   m   65000      Noida\n",
       "2   3   Shivani   18   f   80000      Delhi\n",
       "3   4  Srinivas   45   m   25000      Solan\n",
       "4   5     Akash   35   m   80000  Bengaluru\n",
       "5   1      Aman   23   m   34000      Noida"
      ]
     },
     "execution_count": 103,
     "metadata": {},
     "output_type": "execute_result"
    }
   ],
   "source": [
    "pd.read_csv(r'C:\\Users\\green zone\\Desktop\\Personal_Dataset\\csv_file.csv')"
   ]
  },
  {
   "cell_type": "markdown",
   "id": "e31c57e7",
   "metadata": {},
   "source": [
    "## Create Spark Session"
   ]
  },
  {
   "cell_type": "code",
   "execution_count": 44,
   "id": "3727706f",
   "metadata": {},
   "outputs": [],
   "source": [
    "from pyspark.sql import SparkSession\n",
    "from pyspark.sql.functions import col, lit"
   ]
  },
  {
   "cell_type": "code",
   "execution_count": 9,
   "id": "a02be70e",
   "metadata": {},
   "outputs": [
    {
     "data": {
      "text/html": [
       "\n",
       "            <div>\n",
       "                <p><b>SparkSession - in-memory</b></p>\n",
       "                \n",
       "        <div>\n",
       "            <p><b>SparkContext</b></p>\n",
       "\n",
       "            <p><a href=\"http://Awadhesh.mshome.net:4040\">Spark UI</a></p>\n",
       "\n",
       "            <dl>\n",
       "              <dt>Version</dt>\n",
       "                <dd><code>v3.3.1</code></dd>\n",
       "              <dt>Master</dt>\n",
       "                <dd><code>local[*]</code></dd>\n",
       "              <dt>AppName</dt>\n",
       "                <dd><code>Practice_Pyspark</code></dd>\n",
       "            </dl>\n",
       "        </div>\n",
       "        \n",
       "            </div>\n",
       "        "
      ],
      "text/plain": [
       "<pyspark.sql.session.SparkSession at 0x18ffb81ac70>"
      ]
     },
     "execution_count": 9,
     "metadata": {},
     "output_type": "execute_result"
    }
   ],
   "source": [
    "spark= SparkSession.builder.appName('Practice_Pyspark').getOrCreate()\n",
    "spark"
   ]
  },
  {
   "cell_type": "markdown",
   "id": "be8d8e4d",
   "metadata": {},
   "source": [
    "## Spark Operation"
   ]
  },
  {
   "cell_type": "code",
   "execution_count": 15,
   "id": "dd1e015d",
   "metadata": {},
   "outputs": [],
   "source": [
    "#Read CSV File"
   ]
  },
  {
   "cell_type": "code",
   "execution_count": 104,
   "id": "4386e72a",
   "metadata": {},
   "outputs": [
    {
     "name": "stdout",
     "output_type": "stream",
     "text": [
      "+---+--------+---+---+------+---------+\n",
      "| ID|    Name|Age|Gen|Salary|     City|\n",
      "+---+--------+---+---+------+---------+\n",
      "|  1|    Aman| 23|  m| 34000|    Noida|\n",
      "|  2|   Baman| 34|  m| 65000|    Noida|\n",
      "|  3| Shivani| 18|  f| 80000|    Delhi|\n",
      "|  4|Srinivas| 45|  m| 25000|    Solan|\n",
      "|  5|   Akash| 35|  m| 80000|Bengaluru|\n",
      "|  1|    Aman| 23|  m| 34000|    Noida|\n",
      "+---+--------+---+---+------+---------+\n",
      "\n"
     ]
    }
   ],
   "source": [
    "df= spark.read.csv(r'C:\\Users\\green zone\\Desktop\\Personal_Dataset\\csv_file.csv', header=True)\n",
    "df.show()"
   ]
  },
  {
   "cell_type": "code",
   "execution_count": 105,
   "id": "e36b695e",
   "metadata": {},
   "outputs": [],
   "source": [
    "#Checking Schema and datatype"
   ]
  },
  {
   "cell_type": "code",
   "execution_count": 106,
   "id": "4db7d816",
   "metadata": {},
   "outputs": [
    {
     "name": "stdout",
     "output_type": "stream",
     "text": [
      "root\n",
      " |-- ID: string (nullable = true)\n",
      " |-- Name: string (nullable = true)\n",
      " |-- Age: string (nullable = true)\n",
      " |-- Gen: string (nullable = true)\n",
      " |-- Salary: string (nullable = true)\n",
      " |-- City: string (nullable = true)\n",
      "\n"
     ]
    }
   ],
   "source": [
    "df.printSchema()"
   ]
  },
  {
   "cell_type": "code",
   "execution_count": 107,
   "id": "fa7ab46a",
   "metadata": {},
   "outputs": [],
   "source": [
    "#Rename single Column"
   ]
  },
  {
   "cell_type": "code",
   "execution_count": 108,
   "id": "a370d610",
   "metadata": {},
   "outputs": [
    {
     "name": "stdout",
     "output_type": "stream",
     "text": [
      "+---+--------+---+---+------+---------+\n",
      "| Id|    Name|Age|Gen|Salary|     City|\n",
      "+---+--------+---+---+------+---------+\n",
      "|  1|    Aman| 23|  m| 34000|    Noida|\n",
      "|  2|   Baman| 34|  m| 65000|    Noida|\n",
      "|  3| Shivani| 18|  f| 80000|    Delhi|\n",
      "|  4|Srinivas| 45|  m| 25000|    Solan|\n",
      "|  5|   Akash| 35|  m| 80000|Bengaluru|\n",
      "|  1|    Aman| 23|  m| 34000|    Noida|\n",
      "+---+--------+---+---+------+---------+\n",
      "\n"
     ]
    }
   ],
   "source": [
    "df=df.withColumnRenamed('ID', 'Id')\n",
    "df.show()"
   ]
  },
  {
   "cell_type": "code",
   "execution_count": 109,
   "id": "ed151d50",
   "metadata": {},
   "outputs": [],
   "source": [
    "#Rename Multiple Columns"
   ]
  },
  {
   "cell_type": "code",
   "execution_count": 110,
   "id": "ef9c0d8e",
   "metadata": {},
   "outputs": [
    {
     "name": "stdout",
     "output_type": "stream",
     "text": [
      "+------+--------+-------+-------+----------+---------+\n",
      "|emp_id|emp_name|emp_age|emp_gen|emp_salary| emp_city|\n",
      "+------+--------+-------+-------+----------+---------+\n",
      "|     1|    Aman|     23|      m|     34000|    Noida|\n",
      "|     2|   Baman|     34|      m|     65000|    Noida|\n",
      "|     3| Shivani|     18|      f|     80000|    Delhi|\n",
      "|     4|Srinivas|     45|      m|     25000|    Solan|\n",
      "|     5|   Akash|     35|      m|     80000|Bengaluru|\n",
      "|     1|    Aman|     23|      m|     34000|    Noida|\n",
      "+------+--------+-------+-------+----------+---------+\n",
      "\n"
     ]
    }
   ],
   "source": [
    "df=df.selectExpr('Id as emp_id','Name as emp_name', 'Age as emp_age','Gen as emp_gen',\n",
    "                  'Salary as emp_salary','City as emp_city')\n",
    "df.show()"
   ]
  },
  {
   "cell_type": "code",
   "execution_count": 111,
   "id": "1905a87c",
   "metadata": {},
   "outputs": [],
   "source": [
    "#Add a column"
   ]
  },
  {
   "cell_type": "code",
   "execution_count": 112,
   "id": "a3079531",
   "metadata": {},
   "outputs": [
    {
     "name": "stdout",
     "output_type": "stream",
     "text": [
      "+------+--------+-------+-------+----------+---------+-------+\n",
      "|emp_id|emp_name|emp_age|emp_gen|emp_salary| emp_city|Country|\n",
      "+------+--------+-------+-------+----------+---------+-------+\n",
      "|     1|    Aman|     23|      m|     34000|    Noida|  India|\n",
      "|     2|   Baman|     34|      m|     65000|    Noida|  India|\n",
      "|     3| Shivani|     18|      f|     80000|    Delhi|  India|\n",
      "|     4|Srinivas|     45|      m|     25000|    Solan|  India|\n",
      "|     5|   Akash|     35|      m|     80000|Bengaluru|  India|\n",
      "|     1|    Aman|     23|      m|     34000|    Noida|  India|\n",
      "+------+--------+-------+-------+----------+---------+-------+\n",
      "\n"
     ]
    }
   ],
   "source": [
    "df= df.withColumn('Country', lit('India'))\n",
    "df.show()\n",
    "\n",
    "#Add multiple Column\n",
    "#df2= df.withColumn('Country', lit('India')).withColumn('State', lit('Mixed'))"
   ]
  },
  {
   "cell_type": "code",
   "execution_count": 113,
   "id": "03cc99e8",
   "metadata": {},
   "outputs": [],
   "source": [
    "#Filter data"
   ]
  },
  {
   "cell_type": "code",
   "execution_count": 114,
   "id": "2acd7df2",
   "metadata": {},
   "outputs": [
    {
     "name": "stdout",
     "output_type": "stream",
     "text": [
      "+------+--------+-------+-------+----------+---------+-------+\n",
      "|emp_id|emp_name|emp_age|emp_gen|emp_salary| emp_city|Country|\n",
      "+------+--------+-------+-------+----------+---------+-------+\n",
      "|     2|   Baman|     34|      m|     65000|    Noida|  India|\n",
      "|     3| Shivani|     18|      f|     80000|    Delhi|  India|\n",
      "|     5|   Akash|     35|      m|     80000|Bengaluru|  India|\n",
      "+------+--------+-------+-------+----------+---------+-------+\n",
      "\n"
     ]
    }
   ],
   "source": [
    "df.filter(col('Salary')>50000).show()"
   ]
  },
  {
   "cell_type": "code",
   "execution_count": 115,
   "id": "990d1ece",
   "metadata": {},
   "outputs": [],
   "source": [
    "#Sort data"
   ]
  },
  {
   "cell_type": "code",
   "execution_count": 116,
   "id": "cb646cb8",
   "metadata": {},
   "outputs": [
    {
     "name": "stdout",
     "output_type": "stream",
     "text": [
      "+------+--------+-------+-------+----------+---------+-------+\n",
      "|emp_id|emp_name|emp_age|emp_gen|emp_salary| emp_city|Country|\n",
      "+------+--------+-------+-------+----------+---------+-------+\n",
      "|     1|    Aman|     23|      m|     34000|    Noida|  India|\n",
      "|     2|   Baman|     34|      m|     65000|    Noida|  India|\n",
      "|     3| Shivani|     18|      f|     80000|    Delhi|  India|\n",
      "|     4|Srinivas|     45|      m|     25000|    Solan|  India|\n",
      "|     5|   Akash|     35|      m|     80000|Bengaluru|  India|\n",
      "|     1|    Aman|     23|      m|     34000|    Noida|  India|\n",
      "+------+--------+-------+-------+----------+---------+-------+\n",
      "\n"
     ]
    }
   ],
   "source": [
    "df.show()"
   ]
  },
  {
   "cell_type": "code",
   "execution_count": 117,
   "id": "61a2704c",
   "metadata": {},
   "outputs": [
    {
     "name": "stdout",
     "output_type": "stream",
     "text": [
      "+------+--------+-------+-------+----------+---------+-------+\n",
      "|emp_id|emp_name|emp_age|emp_gen|emp_salary| emp_city|Country|\n",
      "+------+--------+-------+-------+----------+---------+-------+\n",
      "|     3| Shivani|     18|      f|     80000|    Delhi|  India|\n",
      "|     5|   Akash|     35|      m|     80000|Bengaluru|  India|\n",
      "|     2|   Baman|     34|      m|     65000|    Noida|  India|\n",
      "|     1|    Aman|     23|      m|     34000|    Noida|  India|\n",
      "|     1|    Aman|     23|      m|     34000|    Noida|  India|\n",
      "|     4|Srinivas|     45|      m|     25000|    Solan|  India|\n",
      "+------+--------+-------+-------+----------+---------+-------+\n",
      "\n"
     ]
    }
   ],
   "source": [
    "df.sort( df.emp_salary.desc(), df.emp_age.asc() ).show() #SORT function"
   ]
  },
  {
   "cell_type": "code",
   "execution_count": 118,
   "id": "741f5420",
   "metadata": {},
   "outputs": [
    {
     "name": "stdout",
     "output_type": "stream",
     "text": [
      "+------+--------+-------+-------+----------+---------+-------+\n",
      "|emp_id|emp_name|emp_age|emp_gen|emp_salary| emp_city|Country|\n",
      "+------+--------+-------+-------+----------+---------+-------+\n",
      "|     5|   Akash|     35|      m|     80000|Bengaluru|  India|\n",
      "|     3| Shivani|     18|      f|     80000|    Delhi|  India|\n",
      "|     2|   Baman|     34|      m|     65000|    Noida|  India|\n",
      "|     1|    Aman|     23|      m|     34000|    Noida|  India|\n",
      "|     1|    Aman|     23|      m|     34000|    Noida|  India|\n",
      "|     4|Srinivas|     45|      m|     25000|    Solan|  India|\n",
      "+------+--------+-------+-------+----------+---------+-------+\n",
      "\n"
     ]
    }
   ],
   "source": [
    "df.orderBy(df.emp_salary.desc()).show() #Order By function"
   ]
  },
  {
   "cell_type": "code",
   "execution_count": 119,
   "id": "6a4a7628",
   "metadata": {},
   "outputs": [],
   "source": [
    "#Remove Duplicates"
   ]
  },
  {
   "cell_type": "code",
   "execution_count": 121,
   "id": "ece3e995",
   "metadata": {},
   "outputs": [
    {
     "name": "stdout",
     "output_type": "stream",
     "text": [
      "+------+--------+-------+-------+----------+---------+-------+\n",
      "|emp_id|emp_name|emp_age|emp_gen|emp_salary| emp_city|Country|\n",
      "+------+--------+-------+-------+----------+---------+-------+\n",
      "|     2|   Baman|     34|      m|     65000|    Noida|  India|\n",
      "|     1|    Aman|     23|      m|     34000|    Noida|  India|\n",
      "|     4|Srinivas|     45|      m|     25000|    Solan|  India|\n",
      "|     3| Shivani|     18|      f|     80000|    Delhi|  India|\n",
      "|     5|   Akash|     35|      m|     80000|Bengaluru|  India|\n",
      "+------+--------+-------+-------+----------+---------+-------+\n",
      "\n"
     ]
    }
   ],
   "source": [
    "df.distinct().show()\n",
    "#df.dropDuplicate().show()"
   ]
  },
  {
   "cell_type": "code",
   "execution_count": 124,
   "id": "ce2a0c50",
   "metadata": {},
   "outputs": [
    {
     "name": "stdout",
     "output_type": "stream",
     "text": [
      "+------+--------+-------+-------+----------+---------+-------+\n",
      "|emp_id|emp_name|emp_age|emp_gen|emp_salary| emp_city|Country|\n",
      "+------+--------+-------+-------+----------+---------+-------+\n",
      "|     1|    Aman|     23|      m|     34000|    Noida|  India|\n",
      "|     2|   Baman|     34|      m|     65000|    Noida|  India|\n",
      "|     3| Shivani|     18|      f|     80000|    Delhi|  India|\n",
      "|     4|Srinivas|     45|      m|     25000|    Solan|  India|\n",
      "|     5|   Akash|     35|      m|     80000|Bengaluru|  India|\n",
      "|     1|    Aman|     23|      m|     34000|    Noida|  India|\n",
      "+------+--------+-------+-------+----------+---------+-------+\n",
      "\n"
     ]
    }
   ],
   "source": [
    "#Seeing original data\n",
    "df.show()"
   ]
  },
  {
   "cell_type": "code",
   "execution_count": 123,
   "id": "9e791c31",
   "metadata": {},
   "outputs": [
    {
     "name": "stdout",
     "output_type": "stream",
     "text": [
      "+------+--------+-------+-------+----------+---------+-------+\n",
      "|emp_id|emp_name|emp_age|emp_gen|emp_salary| emp_city|Country|\n",
      "+------+--------+-------+-------+----------+---------+-------+\n",
      "|     1|    Aman|     23|      m|     34000|    Noida|  India|\n",
      "|     2|   Baman|     34|      m|     65000|    Noida|  India|\n",
      "|     3| Shivani|     18|      f|     80000|    Delhi|  India|\n",
      "|     4|Srinivas|     45|      m|     25000|    Solan|  India|\n",
      "|     5|   Akash|     35|      m|     80000|Bengaluru|  India|\n",
      "+------+--------+-------+-------+----------+---------+-------+\n",
      "\n"
     ]
    }
   ],
   "source": [
    "#from multiple columns\n",
    "df.dropDuplicates(['emp_id', 'emp_name']).show()"
   ]
  },
  {
   "cell_type": "code",
   "execution_count": null,
   "id": "ff299b01",
   "metadata": {},
   "outputs": [],
   "source": []
  }
 ],
 "metadata": {
  "kernelspec": {
   "display_name": "Python 3 (ipykernel)",
   "language": "python",
   "name": "python3"
  },
  "language_info": {
   "codemirror_mode": {
    "name": "ipython",
    "version": 3
   },
   "file_extension": ".py",
   "mimetype": "text/x-python",
   "name": "python",
   "nbconvert_exporter": "python",
   "pygments_lexer": "ipython3",
   "version": "3.9.13"
  }
 },
 "nbformat": 4,
 "nbformat_minor": 5
}
